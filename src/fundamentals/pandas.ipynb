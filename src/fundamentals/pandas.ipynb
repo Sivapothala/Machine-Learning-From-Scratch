{
 "cells": [
  {
   "cell_type": "code",
   "execution_count": 49,
   "metadata": {},
   "outputs": [],
   "source": [
    "import pandas as pd\n",
    "import numpy as np"
   ]
  },
  {
   "cell_type": "code",
   "execution_count": 50,
   "metadata": {},
   "outputs": [
    {
     "name": "stdout",
     "output_type": "stream",
     "text": [
      "4    1\n",
      "5    2\n",
      "6    3\n",
      "7    4\n",
      "dtype: int64\n",
      "0    0\n",
      "1    1\n",
      "2    2\n",
      "3    3\n",
      "4    4\n",
      "5    5\n",
      "6    6\n",
      "7    7\n",
      "8    8\n",
      "9    9\n",
      "dtype: int32\n",
      "2     0\n",
      "3     1\n",
      "4     2\n",
      "5     3\n",
      "6     4\n",
      "7     5\n",
      "8     6\n",
      "9     7\n",
      "10    8\n",
      "11    9\n",
      "dtype: int32\n"
     ]
    }
   ],
   "source": [
    "# we can use Series to handle one-dimensional Data\n",
    "# params : data and index\n",
    "print(pd.Series([1,2,3,4],index= [4,5,6,7]))\n",
    "\n",
    "# for index we can pass the iterable \n",
    "\n",
    "print(pd.Series(np.arange(0,10)))\n",
    "print(pd.Series(np.arange(0,10),index = range(2,12)))"
   ]
  },
  {
   "cell_type": "code",
   "execution_count": 51,
   "metadata": {},
   "outputs": [
    {
     "data": {
      "text/plain": [
       "<NumpyExtensionArray>\n",
       "[0, 1, 2, 3, 4, 5, 6, 7, 8, 9]\n",
       "Length: 10, dtype: int32"
      ]
     },
     "execution_count": 51,
     "metadata": {},
     "output_type": "execute_result"
    }
   ],
   "source": [
    "s = pd.Series(np.arange(0,10),index = range(2,12))\n",
    "s.dtype\n",
    "s.array\n",
    "# s.at[5]\n",
    "# s.to_numpy()\n"
   ]
  },
  {
   "cell_type": "code",
   "execution_count": 52,
   "metadata": {},
   "outputs": [
    {
     "name": "stdout",
     "output_type": "stream",
     "text": [
      "0.0\n"
     ]
    }
   ],
   "source": [
    "d = {\"a\": 0.0, \"b\": 1.0, \"c\": 2.0}\n",
    "\n",
    "pd.Series(d)\n",
    "\n",
    "#series can be accessed as dict\n",
    "print(d['a'])"
   ]
  },
  {
   "cell_type": "code",
   "execution_count": 53,
   "metadata": {},
   "outputs": [
    {
     "name": "stdout",
     "output_type": "stream",
     "text": [
      "5    3\n",
      "6    4\n",
      "7    5\n",
      "8    6\n",
      "dtype: int32\n",
      "2        1.000000\n",
      "3        2.718282\n",
      "4        7.389056\n",
      "5       20.085537\n",
      "6       54.598150\n",
      "7      148.413159\n",
      "8      403.428793\n",
      "9     1096.633158\n",
      "10    2980.957987\n",
      "11    8103.083928\n",
      "dtype: float64\n",
      "7     5\n",
      "8     6\n",
      "9     7\n",
      "10    8\n",
      "11    9\n",
      "dtype: int32\n"
     ]
    }
   ],
   "source": [
    "# Series can be accessed as a ndarray\n",
    "print(s[3:7])\n",
    "print(np.exp(s))\n",
    "print(s[s > s.median()])\n"
   ]
  },
  {
   "cell_type": "markdown",
   "metadata": {},
   "source": [
    "# DataFrame"
   ]
  },
  {
   "cell_type": "code",
   "execution_count": 54,
   "metadata": {},
   "outputs": [
    {
     "data": {
      "text/html": [
       "<div>\n",
       "<style scoped>\n",
       "    .dataframe tbody tr th:only-of-type {\n",
       "        vertical-align: middle;\n",
       "    }\n",
       "\n",
       "    .dataframe tbody tr th {\n",
       "        vertical-align: top;\n",
       "    }\n",
       "\n",
       "    .dataframe thead th {\n",
       "        text-align: right;\n",
       "    }\n",
       "</style>\n",
       "<table border=\"1\" class=\"dataframe\">\n",
       "  <thead>\n",
       "    <tr style=\"text-align: right;\">\n",
       "      <th></th>\n",
       "      <th>one</th>\n",
       "      <th>two</th>\n",
       "      <th>three</th>\n",
       "    </tr>\n",
       "  </thead>\n",
       "  <tbody>\n",
       "    <tr>\n",
       "      <th>a</th>\n",
       "      <td>1.0</td>\n",
       "      <td>1.0</td>\n",
       "      <td>2.0</td>\n",
       "    </tr>\n",
       "    <tr>\n",
       "      <th>b</th>\n",
       "      <td>2.0</td>\n",
       "      <td>2.0</td>\n",
       "      <td>4.0</td>\n",
       "    </tr>\n",
       "    <tr>\n",
       "      <th>c</th>\n",
       "      <td>3.0</td>\n",
       "      <td>3.0</td>\n",
       "      <td>6.0</td>\n",
       "    </tr>\n",
       "    <tr>\n",
       "      <th>d</th>\n",
       "      <td>NaN</td>\n",
       "      <td>4.0</td>\n",
       "      <td>NaN</td>\n",
       "    </tr>\n",
       "  </tbody>\n",
       "</table>\n",
       "</div>"
      ],
      "text/plain": [
       "   one  two  three\n",
       "a  1.0  1.0    2.0\n",
       "b  2.0  2.0    4.0\n",
       "c  3.0  3.0    6.0\n",
       "d  NaN  4.0    NaN"
      ]
     },
     "execution_count": 54,
     "metadata": {},
     "output_type": "execute_result"
    }
   ],
   "source": [
    "d = {\n",
    "    \"one\": pd.Series([1.0, 2.0, 3.0], index=[\"a\", \"b\", \"c\"]),\n",
    "    \"two\": pd.Series([1.0, 2.0, 3.0, 4.0], index=[\"a\", \"b\", \"c\", \"d\"]),\n",
    "}\n",
    "\n",
    "df = pd.DataFrame(d)\n",
    "df['three'] = df[\"one\"] + df[\"two\"]\n",
    "df\n",
    "\n",
    "# DataFrame is not intended to work exactly like a 2-dimensional NumPy ndarray.\n"
   ]
  },
  {
   "cell_type": "code",
   "execution_count": 55,
   "metadata": {},
   "outputs": [
    {
     "name": "stdout",
     "output_type": "stream",
     "text": [
      "   one  two\n",
      "a  1.0  1.0\n",
      "b  2.0  2.0\n",
      "c  3.0  3.0\n",
      "d  NaN  4.0\n",
      "   one  two\n",
      "b  2.0  2.0\n",
      "c  3.0  3.0\n",
      "d  NaN  4.0\n"
     ]
    }
   ],
   "source": [
    "#delete the column\n",
    "df = df.drop('three', axis=1)\n",
    "print(df)\n",
    "\n",
    "#delete the row\n",
    "df = df.drop('a', axis=0)\n",
    "print(df)\n"
   ]
  },
  {
   "cell_type": "code",
   "execution_count": 56,
   "metadata": {},
   "outputs": [
    {
     "name": "stdout",
     "output_type": "stream",
     "text": [
      "   one  two  three\n",
      "b  2.0  2.0    3.0\n",
      "c  3.0  3.0    3.0\n",
      "d  NaN  4.0    3.0\n",
      "   one  two  three  four\n",
      "b  2.0  2.0    3.0  Four\n",
      "c  3.0  3.0    3.0  Four\n",
      "d  NaN  4.0    3.0  Four\n",
      "   one  two  three  four  five\n",
      "b  2.0  2.0    3.0  Four   2.0\n",
      "c  3.0  3.0    3.0  Four   3.0\n",
      "d  NaN  4.0    3.0  Four   NaN\n",
      "   one  two  three  four  five\n",
      "b  2.0  2.0    3.0  Four   NaN\n",
      "c  3.0  3.0    3.0  Four   3.0\n",
      "d  NaN  4.0    3.0  Four   4.0\n"
     ]
    },
    {
     "name": "stderr",
     "output_type": "stream",
     "text": [
      "C:\\Users\\IsmartSiva\\AppData\\Local\\Temp\\ipykernel_22092\\1696057931.py:16: FutureWarning: Series.__getitem__ treating keys as positions is deprecated. In a future version, integer keys will always be treated as labels (consistent with DataFrame behavior). To access a value by position, use `ser.iloc[pos]`\n",
      "  df[\"five\"] = df[\"two\"][[1,2]]\n"
     ]
    }
   ],
   "source": [
    "# for inserting a scalar value to the DataFrame,it will propagate the value to all the elements in the DataFrame\n",
    "# assign() always returns a copy of the data, leaving the original DataFrame untouched.\n",
    "\n",
    "df = df.assign(three = 3.0)\n",
    "print(df)\n",
    "\n",
    "# for inserting a scalar value to the DataFrame,it will propagate the value to all the elements in the DataFrame\n",
    "df[\"four\"] = \"Four\"\n",
    "print(df)\n",
    "\n",
    "# if you dont have the values for all the index,it will fill the missing values with NaN\n",
    "df[\"five\"] = df[\"two\"][:2]\n",
    "print(df)\n",
    "\n",
    "# if you dont have the values for all the index,it will fill the missing values with NaN\n",
    "df[\"five\"] = df[\"two\"][[1,2]]\n",
    "print(df)\n",
    "\n"
   ]
  },
  {
   "cell_type": "markdown",
   "metadata": {},
   "source": [
    "# Indexing / selection\n",
    "| Operation | Syntax | Result |\n",
    "|-----------|--------|--------|\n",
    "| Select column | df[col] | Series |\n",
    "| Select row by label | df.loc[label] | Series |\n",
    "| Select row by integer location | df.iloc[loc] | Series |\n",
    "| Slice rows | df[5:10] | DataFrame |\n",
    "| Select rows by boolean vector | df[bool_vec] | DataFrame |\n"
   ]
  },
  {
   "cell_type": "code",
   "execution_count": 57,
   "metadata": {},
   "outputs": [
    {
     "data": {
      "text/html": [
       "<div>\n",
       "<style scoped>\n",
       "    .dataframe tbody tr th:only-of-type {\n",
       "        vertical-align: middle;\n",
       "    }\n",
       "\n",
       "    .dataframe tbody tr th {\n",
       "        vertical-align: top;\n",
       "    }\n",
       "\n",
       "    .dataframe thead th {\n",
       "        text-align: right;\n",
       "    }\n",
       "</style>\n",
       "<table border=\"1\" class=\"dataframe\">\n",
       "  <thead>\n",
       "    <tr style=\"text-align: right;\">\n",
       "      <th></th>\n",
       "      <th>A</th>\n",
       "      <th>B</th>\n",
       "      <th>C</th>\n",
       "      <th>D</th>\n",
       "    </tr>\n",
       "  </thead>\n",
       "  <tbody>\n",
       "    <tr>\n",
       "      <th>0</th>\n",
       "      <td>-2.132261</td>\n",
       "      <td>0.903886</td>\n",
       "      <td>0.794457</td>\n",
       "      <td>NaN</td>\n",
       "    </tr>\n",
       "    <tr>\n",
       "      <th>1</th>\n",
       "      <td>0.143645</td>\n",
       "      <td>-3.000754</td>\n",
       "      <td>-2.054936</td>\n",
       "      <td>NaN</td>\n",
       "    </tr>\n",
       "    <tr>\n",
       "      <th>2</th>\n",
       "      <td>2.181318</td>\n",
       "      <td>0.316150</td>\n",
       "      <td>0.818822</td>\n",
       "      <td>NaN</td>\n",
       "    </tr>\n",
       "    <tr>\n",
       "      <th>3</th>\n",
       "      <td>-0.718930</td>\n",
       "      <td>0.521114</td>\n",
       "      <td>-0.172140</td>\n",
       "      <td>NaN</td>\n",
       "    </tr>\n",
       "    <tr>\n",
       "      <th>4</th>\n",
       "      <td>-0.191914</td>\n",
       "      <td>-0.809036</td>\n",
       "      <td>1.661117</td>\n",
       "      <td>NaN</td>\n",
       "    </tr>\n",
       "    <tr>\n",
       "      <th>5</th>\n",
       "      <td>-0.347272</td>\n",
       "      <td>1.064155</td>\n",
       "      <td>1.012747</td>\n",
       "      <td>NaN</td>\n",
       "    </tr>\n",
       "    <tr>\n",
       "      <th>6</th>\n",
       "      <td>1.873125</td>\n",
       "      <td>2.238738</td>\n",
       "      <td>-2.152600</td>\n",
       "      <td>NaN</td>\n",
       "    </tr>\n",
       "    <tr>\n",
       "      <th>7</th>\n",
       "      <td>NaN</td>\n",
       "      <td>NaN</td>\n",
       "      <td>NaN</td>\n",
       "      <td>NaN</td>\n",
       "    </tr>\n",
       "    <tr>\n",
       "      <th>8</th>\n",
       "      <td>NaN</td>\n",
       "      <td>NaN</td>\n",
       "      <td>NaN</td>\n",
       "      <td>NaN</td>\n",
       "    </tr>\n",
       "    <tr>\n",
       "      <th>9</th>\n",
       "      <td>NaN</td>\n",
       "      <td>NaN</td>\n",
       "      <td>NaN</td>\n",
       "      <td>NaN</td>\n",
       "    </tr>\n",
       "  </tbody>\n",
       "</table>\n",
       "</div>"
      ],
      "text/plain": [
       "          A         B         C   D\n",
       "0 -2.132261  0.903886  0.794457 NaN\n",
       "1  0.143645 -3.000754 -2.054936 NaN\n",
       "2  2.181318  0.316150  0.818822 NaN\n",
       "3 -0.718930  0.521114 -0.172140 NaN\n",
       "4 -0.191914 -0.809036  1.661117 NaN\n",
       "5 -0.347272  1.064155  1.012747 NaN\n",
       "6  1.873125  2.238738 -2.152600 NaN\n",
       "7       NaN       NaN       NaN NaN\n",
       "8       NaN       NaN       NaN NaN\n",
       "9       NaN       NaN       NaN NaN"
      ]
     },
     "execution_count": 57,
     "metadata": {},
     "output_type": "execute_result"
    }
   ],
   "source": [
    "df = pd.DataFrame(np.random.randn(10, 4), columns=[\"A\", \"B\", \"C\", \"D\"])\n",
    "df2 = pd.DataFrame(np.random.randn(7, 3), columns=[\"A\", \"B\", \"C\"])\n",
    "df+df2"
   ]
  },
  {
   "cell_type": "code",
   "execution_count": 58,
   "metadata": {},
   "outputs": [
    {
     "data": {
      "text/plain": [
       "DatetimeIndex(['2013-12-31', '2014-01-01', '2014-01-02', '2014-01-03',\n",
       "               '2014-01-04', '2014-01-05'],\n",
       "              dtype='datetime64[ns]', freq='D')"
      ]
     },
     "execution_count": 58,
     "metadata": {},
     "output_type": "execute_result"
    }
   ],
   "source": [
    "# for creating a DataFrame with dates a\n",
    "dates = pd.date_range(\"20131231\",periods=6)\n",
    "dates"
   ]
  },
  {
   "cell_type": "code",
   "execution_count": 59,
   "metadata": {},
   "outputs": [
    {
     "data": {
      "text/html": [
       "<div>\n",
       "<style scoped>\n",
       "    .dataframe tbody tr th:only-of-type {\n",
       "        vertical-align: middle;\n",
       "    }\n",
       "\n",
       "    .dataframe tbody tr th {\n",
       "        vertical-align: top;\n",
       "    }\n",
       "\n",
       "    .dataframe thead th {\n",
       "        text-align: right;\n",
       "    }\n",
       "</style>\n",
       "<table border=\"1\" class=\"dataframe\">\n",
       "  <thead>\n",
       "    <tr style=\"text-align: right;\">\n",
       "      <th></th>\n",
       "      <th>A</th>\n",
       "      <th>B</th>\n",
       "      <th>C</th>\n",
       "      <th>D</th>\n",
       "      <th>E</th>\n",
       "      <th>F</th>\n",
       "    </tr>\n",
       "  </thead>\n",
       "  <tbody>\n",
       "    <tr>\n",
       "      <th>0</th>\n",
       "      <td>1.0</td>\n",
       "      <td>2013-01-02</td>\n",
       "      <td>1.0</td>\n",
       "      <td>3</td>\n",
       "      <td>test</td>\n",
       "      <td>foo</td>\n",
       "    </tr>\n",
       "    <tr>\n",
       "      <th>1</th>\n",
       "      <td>1.0</td>\n",
       "      <td>2013-01-03</td>\n",
       "      <td>1.0</td>\n",
       "      <td>3</td>\n",
       "      <td>train</td>\n",
       "      <td>foo</td>\n",
       "    </tr>\n",
       "    <tr>\n",
       "      <th>2</th>\n",
       "      <td>1.0</td>\n",
       "      <td>2013-01-04</td>\n",
       "      <td>1.0</td>\n",
       "      <td>3</td>\n",
       "      <td>test</td>\n",
       "      <td>foo</td>\n",
       "    </tr>\n",
       "    <tr>\n",
       "      <th>3</th>\n",
       "      <td>1.0</td>\n",
       "      <td>2013-01-05</td>\n",
       "      <td>1.0</td>\n",
       "      <td>3</td>\n",
       "      <td>train</td>\n",
       "      <td>foo</td>\n",
       "    </tr>\n",
       "    <tr>\n",
       "      <th>4</th>\n",
       "      <td>1.0</td>\n",
       "      <td>2013-01-06</td>\n",
       "      <td>1.0</td>\n",
       "      <td>3</td>\n",
       "      <td>test</td>\n",
       "      <td>foo</td>\n",
       "    </tr>\n",
       "    <tr>\n",
       "      <th>5</th>\n",
       "      <td>1.0</td>\n",
       "      <td>2013-01-07</td>\n",
       "      <td>1.0</td>\n",
       "      <td>3</td>\n",
       "      <td>train</td>\n",
       "      <td>foo</td>\n",
       "    </tr>\n",
       "    <tr>\n",
       "      <th>6</th>\n",
       "      <td>1.0</td>\n",
       "      <td>2013-01-08</td>\n",
       "      <td>1.0</td>\n",
       "      <td>3</td>\n",
       "      <td>test</td>\n",
       "      <td>foo</td>\n",
       "    </tr>\n",
       "    <tr>\n",
       "      <th>7</th>\n",
       "      <td>1.0</td>\n",
       "      <td>2013-01-09</td>\n",
       "      <td>1.0</td>\n",
       "      <td>3</td>\n",
       "      <td>train</td>\n",
       "      <td>foo</td>\n",
       "    </tr>\n",
       "    <tr>\n",
       "      <th>8</th>\n",
       "      <td>1.0</td>\n",
       "      <td>2013-01-10</td>\n",
       "      <td>1.0</td>\n",
       "      <td>3</td>\n",
       "      <td>test</td>\n",
       "      <td>foo</td>\n",
       "    </tr>\n",
       "    <tr>\n",
       "      <th>9</th>\n",
       "      <td>1.0</td>\n",
       "      <td>2013-01-11</td>\n",
       "      <td>1.0</td>\n",
       "      <td>3</td>\n",
       "      <td>train</td>\n",
       "      <td>foo</td>\n",
       "    </tr>\n",
       "  </tbody>\n",
       "</table>\n",
       "</div>"
      ],
      "text/plain": [
       "     A          B    C  D      E    F\n",
       "0  1.0 2013-01-02  1.0  3   test  foo\n",
       "1  1.0 2013-01-03  1.0  3  train  foo\n",
       "2  1.0 2013-01-04  1.0  3   test  foo\n",
       "3  1.0 2013-01-05  1.0  3  train  foo\n",
       "4  1.0 2013-01-06  1.0  3   test  foo\n",
       "5  1.0 2013-01-07  1.0  3  train  foo\n",
       "6  1.0 2013-01-08  1.0  3   test  foo\n",
       "7  1.0 2013-01-09  1.0  3  train  foo\n",
       "8  1.0 2013-01-10  1.0  3   test  foo\n",
       "9  1.0 2013-01-11  1.0  3  train  foo"
      ]
     },
     "execution_count": 59,
     "metadata": {},
     "output_type": "execute_result"
    }
   ],
   "source": [
    "df = pd.DataFrame(\n",
    "    {\n",
    "        \"A\": 1.0,\n",
    "        \"B\": pd.date_range(\"20130102\",periods=10),\n",
    "        \"C\": pd.Series(1,index=list(range(10)),dtype=\"float32\"),\n",
    "        \"D\": np.array([3] * 10,dtype=\"int32\"),\n",
    "        \"E\": pd.Categorical([\"test\",\"train\",\"test\",\"train\",\"test\",\"train\",\"test\",\"train\",\"test\",\"train\"]),\n",
    "        \"F\": \"foo\",\n",
    "    }\n",
    ")\n",
    "df"
   ]
  },
  {
   "cell_type": "code",
   "execution_count": 60,
   "metadata": {},
   "outputs": [
    {
     "name": "stdout",
     "output_type": "stream",
     "text": [
      "     A          B    C  D      E    F\n",
      "0  1.0 2013-01-02  1.0  3   test  foo\n",
      "1  1.0 2013-01-03  1.0  3  train  foo\n",
      "2  1.0 2013-01-04  1.0  3   test  foo\n",
      "3  1.0 2013-01-05  1.0  3  train  foo\n",
      "4  1.0 2013-01-06  1.0  3   test  foo\n",
      "     A          B    C  D      E    F\n",
      "5  1.0 2013-01-07  1.0  3  train  foo\n",
      "6  1.0 2013-01-08  1.0  3   test  foo\n",
      "7  1.0 2013-01-09  1.0  3  train  foo\n",
      "8  1.0 2013-01-10  1.0  3   test  foo\n",
      "9  1.0 2013-01-11  1.0  3  train  foo\n",
      "(10, 6)\n",
      "Index([0, 1, 2, 3, 4, 5, 6, 7, 8, 9], dtype='int64')\n",
      "Index(['A', 'B', 'C', 'D', 'E', 'F'], dtype='object')\n",
      "[[1.0 Timestamp('2013-01-02 00:00:00') 1.0 3 'test' 'foo']\n",
      " [1.0 Timestamp('2013-01-03 00:00:00') 1.0 3 'train' 'foo']\n",
      " [1.0 Timestamp('2013-01-04 00:00:00') 1.0 3 'test' 'foo']\n",
      " [1.0 Timestamp('2013-01-05 00:00:00') 1.0 3 'train' 'foo']\n",
      " [1.0 Timestamp('2013-01-06 00:00:00') 1.0 3 'test' 'foo']\n",
      " [1.0 Timestamp('2013-01-07 00:00:00') 1.0 3 'train' 'foo']\n",
      " [1.0 Timestamp('2013-01-08 00:00:00') 1.0 3 'test' 'foo']\n",
      " [1.0 Timestamp('2013-01-09 00:00:00') 1.0 3 'train' 'foo']\n",
      " [1.0 Timestamp('2013-01-10 00:00:00') 1.0 3 'test' 'foo']\n",
      " [1.0 Timestamp('2013-01-11 00:00:00') 1.0 3 'train' 'foo']]\n"
     ]
    }
   ],
   "source": [
    "# to get the first 5 rows\n",
    "print(df.head())\n",
    "# to get the last 5 rows\n",
    "print(df.tail())\n",
    "# to get the number of rows and columns\n",
    "print(df.shape)\n",
    "# to get the index\n",
    "print(df.index)\n",
    "# to get the columns\n",
    "print(df.columns)\n",
    "# to get the values\n",
    "print(df.values)\n"
   ]
  },
  {
   "cell_type": "code",
   "execution_count": 61,
   "metadata": {},
   "outputs": [
    {
     "data": {
      "text/html": [
       "<div>\n",
       "<style scoped>\n",
       "    .dataframe tbody tr th:only-of-type {\n",
       "        vertical-align: middle;\n",
       "    }\n",
       "\n",
       "    .dataframe tbody tr th {\n",
       "        vertical-align: top;\n",
       "    }\n",
       "\n",
       "    .dataframe thead th {\n",
       "        text-align: right;\n",
       "    }\n",
       "</style>\n",
       "<table border=\"1\" class=\"dataframe\">\n",
       "  <thead>\n",
       "    <tr style=\"text-align: right;\">\n",
       "      <th></th>\n",
       "      <th>A</th>\n",
       "      <th>B</th>\n",
       "      <th>C</th>\n",
       "      <th>D</th>\n",
       "    </tr>\n",
       "  </thead>\n",
       "  <tbody>\n",
       "    <tr>\n",
       "      <th>2013-12-31</th>\n",
       "      <td>7.188154</td>\n",
       "      <td>2.257619</td>\n",
       "      <td>9.011891</td>\n",
       "      <td>8.475116</td>\n",
       "    </tr>\n",
       "    <tr>\n",
       "      <th>2014-01-01</th>\n",
       "      <td>0.689308</td>\n",
       "      <td>1.978226</td>\n",
       "      <td>9.593426</td>\n",
       "      <td>0.455551</td>\n",
       "    </tr>\n",
       "    <tr>\n",
       "      <th>2014-01-02</th>\n",
       "      <td>3.634282</td>\n",
       "      <td>5.664518</td>\n",
       "      <td>2.939398</td>\n",
       "      <td>2.836616</td>\n",
       "    </tr>\n",
       "    <tr>\n",
       "      <th>2014-01-03</th>\n",
       "      <td>4.582159</td>\n",
       "      <td>4.676392</td>\n",
       "      <td>1.618480</td>\n",
       "      <td>1.870843</td>\n",
       "    </tr>\n",
       "    <tr>\n",
       "      <th>2014-01-04</th>\n",
       "      <td>4.878874</td>\n",
       "      <td>9.050554</td>\n",
       "      <td>7.168809</td>\n",
       "      <td>2.550571</td>\n",
       "    </tr>\n",
       "    <tr>\n",
       "      <th>2014-01-05</th>\n",
       "      <td>8.196116</td>\n",
       "      <td>5.235925</td>\n",
       "      <td>2.307923</td>\n",
       "      <td>2.001258</td>\n",
       "    </tr>\n",
       "  </tbody>\n",
       "</table>\n",
       "</div>"
      ],
      "text/plain": [
       "                   A         B         C         D\n",
       "2013-12-31  7.188154  2.257619  9.011891  8.475116\n",
       "2014-01-01  0.689308  1.978226  9.593426  0.455551\n",
       "2014-01-02  3.634282  5.664518  2.939398  2.836616\n",
       "2014-01-03  4.582159  4.676392  1.618480  1.870843\n",
       "2014-01-04  4.878874  9.050554  7.168809  2.550571\n",
       "2014-01-05  8.196116  5.235925  2.307923  2.001258"
      ]
     },
     "execution_count": 61,
     "metadata": {},
     "output_type": "execute_result"
    }
   ],
   "source": [
    "df = pd.DataFrame(np.random.rand(6, 4)*10, index=dates, columns=list(\"ABCD\"))\n",
    "\n",
    "df"
   ]
  },
  {
   "cell_type": "code",
   "execution_count": 62,
   "metadata": {},
   "outputs": [
    {
     "name": "stdout",
     "output_type": "stream",
     "text": [
      "[[7.18815429 2.25761897 9.01189087 8.47511633]\n",
      " [0.68930835 1.97822583 9.5934256  0.45555099]\n",
      " [3.63428167 5.66451809 2.9393977  2.83661619]\n",
      " [4.58215867 4.67639157 1.61847965 1.87084262]\n",
      " [4.87887411 9.0505539  7.16880941 2.55057119]\n",
      " [8.19611562 5.23592521 2.30792271 2.00125822]]\n",
      "              A         B         C         D\n",
      "count  6.000000  6.000000  6.000000  6.000000\n",
      "mean   4.861482  4.810539  5.439988  3.031659\n",
      "std    2.665504  2.586324  3.568335  2.790923\n",
      "min    0.689308  1.978226  1.618480  0.455551\n",
      "25%    3.871251  2.862312  2.465791  1.903447\n",
      "50%    4.730516  4.956158  5.054104  2.275915\n",
      "75%    6.610834  5.557370  8.551121  2.765105\n",
      "max    8.196116  9.050554  9.593426  8.475116\n",
      "A    4.861482\n",
      "B    4.810539\n",
      "C    5.439988\n",
      "D    3.031659\n",
      "dtype: float64\n"
     ]
    }
   ],
   "source": [
    "# for converting the DataFrame to a numpy array\n",
    "print(df.to_numpy())\n",
    "\n",
    "# for converting the DataFrame to a csv file\n",
    "# df.to_csv(\"df.csv\",index=False)\n",
    "\n",
    "# describe for summary of the DataFrame\n",
    "print(df.describe())\n",
    "\n",
    "# for getting the mean of the DataFrame\n",
    "print(df.mean())\n",
    "\n",
    "\n"
   ]
  },
  {
   "cell_type": "code",
   "execution_count": 63,
   "metadata": {},
   "outputs": [
    {
     "name": "stdout",
     "output_type": "stream",
     "text": [
      "                   A         B         C         D\n",
      "2013-12-31  7.188154  2.257619  9.011891  8.475116\n",
      "2014-01-01  0.689308  1.978226  9.593426  0.455551\n",
      "2014-01-02  3.634282  5.664518  2.939398  2.836616\n",
      "2014-01-03  4.582159  4.676392  1.618480  1.870843\n",
      "2014-01-04  4.878874  9.050554  7.168809  2.550571\n",
      "2014-01-05  8.196116  5.235925  2.307923  2.001258\n",
      "                   D         C         B         A\n",
      "2013-12-31  8.475116  9.011891  2.257619  7.188154\n",
      "2014-01-01  0.455551  9.593426  1.978226  0.689308\n",
      "2014-01-02  2.836616  2.939398  5.664518  3.634282\n",
      "2014-01-03  1.870843  1.618480  4.676392  4.582159\n",
      "2014-01-04  2.550571  7.168809  9.050554  4.878874\n",
      "2014-01-05  2.001258  2.307923  5.235925  8.196116\n",
      "                   A         B         C         D\n",
      "2014-01-05  8.196116  5.235925  2.307923  2.001258\n",
      "2014-01-04  4.878874  9.050554  7.168809  2.550571\n",
      "2014-01-03  4.582159  4.676392  1.618480  1.870843\n",
      "2014-01-02  3.634282  5.664518  2.939398  2.836616\n",
      "2014-01-01  0.689308  1.978226  9.593426  0.455551\n",
      "2013-12-31  7.188154  2.257619  9.011891  8.475116\n",
      "                   A         B         C         D\n",
      "2014-01-04  4.878874  9.050554  7.168809  2.550571\n",
      "2014-01-02  3.634282  5.664518  2.939398  2.836616\n",
      "2014-01-05  8.196116  5.235925  2.307923  2.001258\n",
      "2014-01-03  4.582159  4.676392  1.618480  1.870843\n",
      "2013-12-31  7.188154  2.257619  9.011891  8.475116\n",
      "2014-01-01  0.689308  1.978226  9.593426  0.455551\n"
     ]
    }
   ],
   "source": [
    "## Sorting \n",
    "\n",
    "# sort_index() sorts the DataFrame by index\n",
    "# axis=1 means sort by columns (axis=0 would sort by row index)\n",
    "# ascending=False means sort in descending order (Z to A)\n",
    "# In this case, it sorts the columns D,C,B,A instead of A,B,C,D\n",
    "print(df)\n",
    "print(df.sort_index(axis=1, ascending=False))\n",
    "# sorting means sort by rows\n",
    "print(df.sort_index(axis=0, ascending=False))\n",
    "\n",
    "# sort by column \n",
    "print(df.sort_values(by=\"B\", ascending=False))\n"
   ]
  },
  {
   "cell_type": "code",
   "execution_count": 64,
   "metadata": {},
   "outputs": [
    {
     "name": "stdout",
     "output_type": "stream",
     "text": [
      "                   B\n",
      "2014-01-02  5.664518\n",
      "2014-01-03  4.676392\n",
      "2014-01-04  9.050554\n",
      "2014-01-05  5.235925\n",
      "A    4.582159\n",
      "B    4.676392\n",
      "C    1.618480\n",
      "D    1.870843\n",
      "Name: 2014-01-03 00:00:00, dtype: float64\n",
      "                   A         C\n",
      "2014-01-01  0.689308  9.593426\n",
      "2014-01-02  3.634282  2.939398\n",
      "2014-01-04  4.878874  7.168809\n",
      "1.978225825307166\n"
     ]
    }
   ],
   "source": [
    "# loc is for accesing the row data\n",
    "df.loc[[dates[0],dates[1]],['A','B']]\n",
    "\n",
    "# using at function for getting Values\n",
    "df.at[dates[0], \"A\"]\n",
    "\n",
    "#  uinsg iloc function\n",
    "\n",
    "print(df.iloc[2:,1:2])\n",
    "\n",
    "print(df.iloc[3])\n",
    "\n",
    "print(df.iloc[[1, 2, 4], [0, 2]])\n",
    "\n",
    "# For getting fast access to a scalar\n",
    "print(df.iat[1,1])\n",
    "\n",
    "\n",
    "\n",
    "\n"
   ]
  },
  {
   "cell_type": "code",
   "execution_count": 65,
   "metadata": {},
   "outputs": [
    {
     "name": "stdout",
     "output_type": "stream",
     "text": [
      "                   A         B         C         D\n",
      "2013-12-31  7.188154  2.257619  9.011891  8.475116\n",
      "2014-01-01  0.689308  1.978226  9.593426  0.455551\n",
      "2014-01-02  3.634282  5.664518  2.939398  2.836616\n",
      "2014-01-03  4.582159  4.676392  1.618480  1.870843\n",
      "2014-01-04  4.878874  9.050554  7.168809  2.550571\n",
      "2014-01-05  8.196116  5.235925  2.307923  2.001258\n",
      "                   B         C\n",
      "2013-12-31  2.257619  9.011891\n",
      "2014-01-01  1.978226  9.593426\n",
      "2014-01-02  5.664518  2.939398\n",
      "2014-01-03  4.676392  1.618480\n",
      "2014-01-04  9.050554  7.168809\n",
      "2014-01-05  5.235925  2.307923\n",
      "                   A         B         C         D     E\n",
      "2014-01-02  3.634282  5.664518  2.939398  2.836616   two\n",
      "2014-01-04  4.878874  9.050554  7.168809  2.550571  four\n"
     ]
    }
   ],
   "source": [
    "#Boolean Indexing\n",
    "\n",
    "print(df[df['A'] > 0])\n",
    "\n",
    "print(df[df['A'] > 0][['B','C']])\n",
    "\n",
    "df[\"E\"] = [\"one\", \"one\", \"two\", \"three\", \"four\", \"three\"]\n",
    "\n",
    "# isin() is for checking if the values are in the list\n",
    "print(df[df[\"E\"].isin([\"two\", \"four\"])])\n",
    "\n",
    "\n",
    "\n",
    "\n",
    "\n"
   ]
  },
  {
   "cell_type": "markdown",
   "metadata": {},
   "source": [
    "# Missing data"
   ]
  },
  {
   "cell_type": "code",
   "execution_count": 66,
   "metadata": {},
   "outputs": [
    {
     "name": "stdout",
     "output_type": "stream",
     "text": [
      "A    0\n",
      "B    0\n",
      "C    0\n",
      "D    0\n",
      "E    0\n",
      "E    0\n",
      "dtype: int64\n",
      "                   A         B         C         D      E      E\n",
      "2013-12-31  7.188154  2.257619  9.011891  8.475116      1      1\n",
      "2014-01-01  0.689308  1.978226  9.593426  0.455551      1      1\n",
      "2014-01-02  3.634282  5.664518  2.939398  2.836616    two    two\n",
      "2014-01-03  4.582159  4.676392  1.618480  1.870843  three  three\n",
      "                   A         B         C         D      E      E\n",
      "2013-12-31  7.188154  2.257619  9.011891  8.475116      1      1\n",
      "2014-01-01  0.689308  1.978226  9.593426  0.455551      1      1\n",
      "2014-01-02  3.634282  5.664518  2.939398  2.836616    two    two\n",
      "2014-01-03  4.582159  4.676392  1.618480  1.870843  three  three\n"
     ]
    }
   ],
   "source": [
    "# df.pop(\"E\")\n",
    "# print(df)\n",
    "\n",
    "\n",
    "\n",
    "df1 = df.reindex(index=dates[0:4], columns=list(df.columns)+[\"E\"])\n",
    "df1.loc[dates[0]:dates[1], \"E\"] = 1\n",
    "\n",
    "# dropna() is for dropping the missing values how can be any or all\n",
    "# df1.dropna(how=\"any\",inplace=True)\n",
    "df1.dropna(how=\"any\")\n",
    "\n",
    "print(df1.isna().sum())\n",
    "print(df1)\n",
    "# fillna() is for filling the missing values inplace is for changing the original dataframe\n",
    "df1.fillna(value=5,inplace=True)\n",
    "print(df1)\n",
    "\n",
    "\n",
    "\n",
    "\n",
    "\n",
    "\n"
   ]
  },
  {
   "cell_type": "code",
   "execution_count": 67,
   "metadata": {},
   "outputs": [
    {
     "name": "stdout",
     "output_type": "stream",
     "text": [
      "2013-12-31    NaN\n",
      "2014-01-01    NaN\n",
      "2014-01-02    1.0\n",
      "2014-01-03    3.0\n",
      "2014-01-04    5.0\n",
      "2014-01-05    NaN\n",
      "Freq: D, dtype: float64\n",
      "                   A         B         C         D      E\n",
      "2013-12-31  7.188154  2.257619  9.011891  8.475116    one\n",
      "2014-01-01  0.689308  1.978226  9.593426  0.455551    one\n",
      "2014-01-02  3.634282  5.664518  2.939398  2.836616    two\n",
      "2014-01-03  4.582159  4.676392  1.618480  1.870843  three\n",
      "2014-01-04  4.878874  9.050554  7.168809  2.550571   four\n",
      "2014-01-05  8.196116  5.235925  2.307923  2.001258  three\n",
      "                   A         B         C         D\n",
      "2013-12-31       NaN       NaN       NaN       NaN\n",
      "2014-01-01       NaN       NaN       NaN       NaN\n",
      "2014-01-02  2.634282  4.664518  1.939398  1.836616\n",
      "2014-01-03  1.582159  1.676392 -1.381520 -1.129157\n",
      "2014-01-04 -0.121126  4.050554  2.168809 -2.449429\n",
      "2014-01-05       NaN       NaN       NaN       NaN\n",
      "A    4.861482\n",
      "B    4.810539\n",
      "C    5.439988\n",
      "D    3.031659\n",
      "dtype: float64\n"
     ]
    }
   ],
   "source": [
    "s = pd.Series([1, 3, 5, np.nan, 6, 8], index=dates).shift(2)\n",
    "print(s)\n",
    "print(df)\n",
    "\n",
    "df.pop('E')\n",
    "# sub is for subtracting the series from the dataframe\n",
    "print(df.sub(s, axis=\"index\"))\n",
    "\n",
    "# mean is for getting the mean of the dataframe\n",
    "print(df.mean(axis = 0))"
   ]
  },
  {
   "cell_type": "code",
   "execution_count": 68,
   "metadata": {},
   "outputs": [
    {
     "name": "stdout",
     "output_type": "stream",
     "text": [
      "                     A           B           C           D\n",
      "2013-12-31  727.441214  228.471040  912.003356  857.681773\n",
      "2014-01-01   69.758005  200.196454  970.854671   46.101760\n",
      "2014-01-02  367.789305  573.249230  297.467047  287.065559\n",
      "2014-01-03  463.714457  473.250826  163.790140  189.329273\n",
      "2014-01-04  493.742060  915.916054  725.483513  258.117804\n",
      "2014-01-05  829.446901  529.875632  233.561778  202.527331\n",
      "A    27.224300\n",
      "B    26.939018\n",
      "C    30.463931\n",
      "D    16.977292\n",
      "dtype: float64\n"
     ]
    }
   ],
   "source": [
    "# user defined function\n",
    "print(df.transform(lambda x: x * 101.2))\n",
    "print(df.agg(lambda x: np.mean(x) * 5.6))"
   ]
  },
  {
   "cell_type": "code",
   "execution_count": 69,
   "metadata": {},
   "outputs": [
    {
     "data": {
      "text/html": [
       "<div>\n",
       "<style scoped>\n",
       "    .dataframe tbody tr th:only-of-type {\n",
       "        vertical-align: middle;\n",
       "    }\n",
       "\n",
       "    .dataframe tbody tr th {\n",
       "        vertical-align: top;\n",
       "    }\n",
       "\n",
       "    .dataframe thead th {\n",
       "        text-align: right;\n",
       "    }\n",
       "</style>\n",
       "<table border=\"1\" class=\"dataframe\">\n",
       "  <thead>\n",
       "    <tr style=\"text-align: right;\">\n",
       "      <th></th>\n",
       "      <th>A</th>\n",
       "      <th>B</th>\n",
       "      <th>C</th>\n",
       "      <th>D</th>\n",
       "    </tr>\n",
       "  </thead>\n",
       "  <tbody>\n",
       "    <tr>\n",
       "      <th>2013-12-31</th>\n",
       "      <td>7.188154</td>\n",
       "      <td>2.257619</td>\n",
       "      <td>9.011891</td>\n",
       "      <td>8.475116</td>\n",
       "    </tr>\n",
       "    <tr>\n",
       "      <th>2014-01-01</th>\n",
       "      <td>0.689308</td>\n",
       "      <td>1.978226</td>\n",
       "      <td>9.593426</td>\n",
       "      <td>0.455551</td>\n",
       "    </tr>\n",
       "    <tr>\n",
       "      <th>2014-01-02</th>\n",
       "      <td>3.634282</td>\n",
       "      <td>5.664518</td>\n",
       "      <td>2.939398</td>\n",
       "      <td>2.836616</td>\n",
       "    </tr>\n",
       "  </tbody>\n",
       "</table>\n",
       "</div>"
      ],
      "text/plain": [
       "                   A         B         C         D\n",
       "2013-12-31  7.188154  2.257619  9.011891  8.475116\n",
       "2014-01-01  0.689308  1.978226  9.593426  0.455551\n",
       "2014-01-02  3.634282  5.664518  2.939398  2.836616"
      ]
     },
     "execution_count": 69,
     "metadata": {},
     "output_type": "execute_result"
    }
   ],
   "source": [
    "df.iloc[1:,2:]\n",
    "df[:3]\n"
   ]
  },
  {
   "cell_type": "markdown",
   "metadata": {},
   "source": [
    "# Merging\n"
   ]
  },
  {
   "cell_type": "code",
   "execution_count": 70,
   "metadata": {},
   "outputs": [
    {
     "name": "stdout",
     "output_type": "stream",
     "text": [
      "          0         1         2         3\n",
      "0 -2.482880  0.414765 -0.827761  1.667302\n",
      "1 -0.992924 -0.182241  1.673199 -0.864833\n",
      "2 -0.894216  1.309580 -0.021403  0.064083\n",
      "3  1.075556  0.085793  0.909285 -0.468489\n",
      "4  0.139474  0.139487  0.779801 -1.203418\n",
      "5  1.205909 -2.019845  0.954524  0.503120\n",
      "6  0.938164 -0.697601  1.666527  0.768839\n",
      "7  0.792405 -0.936001  0.565610  1.259301\n",
      "8  1.365384  1.526153  0.069581  0.279934\n",
      "9 -1.543852  0.376203  0.928010  0.651361\n",
      "          0         1         2         3         0         1         2  \\\n",
      "0 -2.482880  0.414765 -0.827761  1.667302       NaN       NaN       NaN   \n",
      "1 -0.992924 -0.182241  1.673199 -0.864833       NaN       NaN       NaN   \n",
      "2 -0.894216  1.309580 -0.021403  0.064083       NaN       NaN       NaN   \n",
      "3       NaN       NaN       NaN       NaN  1.075556  0.085793  0.909285   \n",
      "4       NaN       NaN       NaN       NaN  0.139474  0.139487  0.779801   \n",
      "5       NaN       NaN       NaN       NaN  1.205909 -2.019845  0.954524   \n",
      "6       NaN       NaN       NaN       NaN  0.938164 -0.697601  1.666527   \n",
      "7       NaN       NaN       NaN       NaN       NaN       NaN       NaN   \n",
      "8       NaN       NaN       NaN       NaN       NaN       NaN       NaN   \n",
      "9       NaN       NaN       NaN       NaN       NaN       NaN       NaN   \n",
      "\n",
      "          3         0         1         2         3  \n",
      "0       NaN       NaN       NaN       NaN       NaN  \n",
      "1       NaN       NaN       NaN       NaN       NaN  \n",
      "2       NaN       NaN       NaN       NaN       NaN  \n",
      "3 -0.468489       NaN       NaN       NaN       NaN  \n",
      "4 -1.203418       NaN       NaN       NaN       NaN  \n",
      "5  0.503120       NaN       NaN       NaN       NaN  \n",
      "6  0.768839       NaN       NaN       NaN       NaN  \n",
      "7       NaN  0.792405 -0.936001  0.565610  1.259301  \n",
      "8       NaN  1.365384  1.526153  0.069581  0.279934  \n",
      "9       NaN -1.543852  0.376203  0.928010  0.651361  \n",
      "          0         1         2         3\n",
      "3  1.075556  0.085793  0.909285 -0.468489\n",
      "4  0.139474  0.139487  0.779801 -1.203418\n",
      "5  1.205909 -2.019845  0.954524  0.503120\n",
      "6  0.938164 -0.697601  1.666527  0.768839\n"
     ]
    }
   ],
   "source": [
    "df = pd.DataFrame(np.random.randn(10, 4))\n",
    "print(df)\n",
    "pieces = [df[:3], df[3:7], df[7:]]\n",
    "# Concatenating pandas objects together row-wise with concat()\n",
    "pd.concat(pieces)\n",
    "\n",
    "# Concatenating pandas objects together column-wise with concat()\n",
    "# The pieces have different row counts (3, 4, and 3 rows) so concat preserves all rows\n",
    "# To get only 3 rows, we need to specify inner join\n",
    "print(pd.concat(pieces, axis=1)) \n",
    "\n",
    "print(df[3:7])\n"
   ]
  },
  {
   "cell_type": "code",
   "execution_count": 71,
   "metadata": {},
   "outputs": [
    {
     "name": "stdout",
     "output_type": "stream",
     "text": [
      "   key  lval  rval\n",
      "0  foo     1     3\n",
      "1  bar     2     4\n"
     ]
    }
   ],
   "source": [
    "# merge() enables SQL style join types along specific columns\n",
    "\n",
    "left = pd.DataFrame({'key': ['foo', 'bar'], 'lval': [1, 2]})\n",
    "right = pd.DataFrame({'key': ['foo', 'bar'], 'rval': [3, 4]})\n",
    "\n",
    "print(pd.merge(left, right, on='key'))\n"
   ]
  },
  {
   "cell_type": "markdown",
   "metadata": {},
   "source": [
    "# Grouping"
   ]
  },
  {
   "cell_type": "code",
   "execution_count": 72,
   "metadata": {},
   "outputs": [
    {
     "name": "stdout",
     "output_type": "stream",
     "text": [
      "     A      B         C         D\n",
      "0  foo    one  0.246559  0.395539\n",
      "1  bar    one -1.241743  0.889199\n",
      "2  foo    two  1.043200 -0.675227\n",
      "3  bar  three  1.837874  0.867148\n",
      "4  foo    two  0.281615  0.945538\n",
      "5  bar    two -0.405323 -0.021608\n",
      "6  foo    one -1.019528 -0.322238\n",
      "7  foo  three -0.103069 -0.076780\n",
      "            C         D\n",
      "A                      \n",
      "bar  0.190808  1.734739\n",
      "foo  0.448777  0.266831\n",
      "                  D\n",
      "A   B              \n",
      "bar one    0.889199\n",
      "    three  0.867148\n",
      "    two   -0.021608\n",
      "foo one    0.073301\n",
      "    three -0.076780\n",
      "    two    0.270311\n"
     ]
    }
   ],
   "source": [
    "df = pd.DataFrame(\n",
    "    {\n",
    "        \"A\": [\"foo\", \"bar\", \"foo\", \"bar\", \"foo\", \"bar\", \"foo\", \"foo\"],\n",
    "        \"B\": [\"one\", \"one\", \"two\", \"three\", \"two\", \"two\", \"one\", \"three\"],\n",
    "        \"C\": np.random.randn(8),\n",
    "        \"D\": np.random.randn(8),\n",
    "    }\n",
    ")\n",
    "print(df)\n",
    "print(df.groupby(\"A\")[[\"C\", \"D\"]].sum())\n",
    "print(df.groupby([\"A\", \"B\"])[[\"D\"]].sum())\n"
   ]
  },
  {
   "cell_type": "markdown",
   "metadata": {},
   "source": [
    "# Reshaping\n"
   ]
  },
  {
   "cell_type": "code",
   "execution_count": 74,
   "metadata": {},
   "outputs": [
    {
     "data": {
      "text/html": [
       "<div>\n",
       "<style scoped>\n",
       "    .dataframe tbody tr th:only-of-type {\n",
       "        vertical-align: middle;\n",
       "    }\n",
       "\n",
       "    .dataframe tbody tr th {\n",
       "        vertical-align: top;\n",
       "    }\n",
       "\n",
       "    .dataframe thead th {\n",
       "        text-align: right;\n",
       "    }\n",
       "</style>\n",
       "<table border=\"1\" class=\"dataframe\">\n",
       "  <thead>\n",
       "    <tr style=\"text-align: right;\">\n",
       "      <th></th>\n",
       "      <th>first</th>\n",
       "      <th>second</th>\n",
       "    </tr>\n",
       "  </thead>\n",
       "  <tbody>\n",
       "    <tr>\n",
       "      <th>0</th>\n",
       "      <td>bar</td>\n",
       "      <td>one</td>\n",
       "    </tr>\n",
       "    <tr>\n",
       "      <th>1</th>\n",
       "      <td>bar</td>\n",
       "      <td>two</td>\n",
       "    </tr>\n",
       "    <tr>\n",
       "      <th>2</th>\n",
       "      <td>foo</td>\n",
       "      <td>one</td>\n",
       "    </tr>\n",
       "    <tr>\n",
       "      <th>3</th>\n",
       "      <td>foo</td>\n",
       "      <td>two</td>\n",
       "    </tr>\n",
       "  </tbody>\n",
       "</table>\n",
       "</div>"
      ],
      "text/plain": [
       "  first second\n",
       "0   bar    one\n",
       "1   bar    two\n",
       "2   foo    one\n",
       "3   foo    two"
      ]
     },
     "execution_count": 74,
     "metadata": {},
     "output_type": "execute_result"
    }
   ],
   "source": [
    "arrays = [\n",
    "   [\"bar\", \"bar\", \"baz\", \"baz\", \"foo\", \"foo\", \"qux\", \"qux\"],\n",
    "   [\"one\", \"two\", \"one\", \"two\", \"one\", \"two\", \"one\", \"two\"],\n",
    "]\n",
    "df = pd.DataFrame(\n",
    "    [[\"bar\", \"one\"], [\"bar\", \"two\"], [\"foo\", \"one\"], [\"foo\", \"two\"]],\n",
    "    columns=[\"first\", \"second\"],\n",
    ")\n",
    "df"
   ]
  },
  {
   "cell_type": "code",
   "execution_count": 75,
   "metadata": {},
   "outputs": [
    {
     "data": {
      "text/plain": [
       "0  A   -1.671975\n",
       "   B    0.382662\n",
       "   C    0.467773\n",
       "1  A    0.245889\n",
       "   B   -0.934411\n",
       "   C   -1.392230\n",
       "2  A    1.033230\n",
       "   B    0.204103\n",
       "   C    0.394591\n",
       "3  A   -0.231693\n",
       "   B   -0.003922\n",
       "   C   -1.049796\n",
       "4  A    0.625616\n",
       "   B   -0.550391\n",
       "   C    1.109820\n",
       "5  A   -0.544241\n",
       "   B    0.376626\n",
       "   C    1.484478\n",
       "6  A    0.328960\n",
       "   B    1.928061\n",
       "   C   -0.646770\n",
       "dtype: float64"
      ]
     },
     "execution_count": 75,
     "metadata": {},
     "output_type": "execute_result"
    }
   ],
   "source": [
    "# Stacking \n",
    "stacked = df2.stack(future_stack=True)\n",
    "stacked"
   ]
  },
  {
   "cell_type": "code",
   "execution_count": 78,
   "metadata": {},
   "outputs": [
    {
     "data": {
      "text/html": [
       "<div>\n",
       "<style scoped>\n",
       "    .dataframe tbody tr th:only-of-type {\n",
       "        vertical-align: middle;\n",
       "    }\n",
       "\n",
       "    .dataframe tbody tr th {\n",
       "        vertical-align: top;\n",
       "    }\n",
       "\n",
       "    .dataframe thead th {\n",
       "        text-align: right;\n",
       "    }\n",
       "</style>\n",
       "<table border=\"1\" class=\"dataframe\">\n",
       "  <thead>\n",
       "    <tr style=\"text-align: right;\">\n",
       "      <th></th>\n",
       "      <th>AAA</th>\n",
       "      <th>BBB</th>\n",
       "      <th>CCC</th>\n",
       "    </tr>\n",
       "  </thead>\n",
       "  <tbody>\n",
       "    <tr>\n",
       "      <th>2</th>\n",
       "      <td>6</td>\n",
       "      <td>30</td>\n",
       "      <td>-30</td>\n",
       "    </tr>\n",
       "    <tr>\n",
       "      <th>1</th>\n",
       "      <td>5</td>\n",
       "      <td>20</td>\n",
       "      <td>50</td>\n",
       "    </tr>\n",
       "    <tr>\n",
       "      <th>3</th>\n",
       "      <td>7</td>\n",
       "      <td>40</td>\n",
       "      <td>-50</td>\n",
       "    </tr>\n",
       "  </tbody>\n",
       "</table>\n",
       "</div>"
      ],
      "text/plain": [
       "   AAA  BBB  CCC\n",
       "2    6   30  -30\n",
       "1    5   20   50\n",
       "3    7   40  -50"
      ]
     },
     "execution_count": 78,
     "metadata": {},
     "output_type": "execute_result"
    }
   ],
   "source": [
    "df = pd.DataFrame(\n",
    "    {\"AAA\": [4, 5, 6, 7], \"BBB\": [10, 20, 30, 40], \"CCC\": [100, 50, -30, -50]}\n",
    ")\n",
    "df_mask = pd.DataFrame(\n",
    "    {\"AAA\": [True] * 4, \"BBB\": [False] * 4, \"CCC\": [True, False] * 2}\n",
    ")\n",
    "df.where(df_mask, -1000)\n",
    "df.loc[(df.CCC - 6).abs().argsort()[:3]]"
   ]
  }
 ],
 "metadata": {
  "kernelspec": {
   "display_name": "Python 3",
   "language": "python",
   "name": "python3"
  },
  "language_info": {
   "codemirror_mode": {
    "name": "ipython",
    "version": 3
   },
   "file_extension": ".py",
   "mimetype": "text/x-python",
   "name": "python",
   "nbconvert_exporter": "python",
   "pygments_lexer": "ipython3",
   "version": "3.12.0"
  }
 },
 "nbformat": 4,
 "nbformat_minor": 2
}
